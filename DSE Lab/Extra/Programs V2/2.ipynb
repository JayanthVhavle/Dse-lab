{
 "cells": [
  {
   "cell_type": "code",
   "execution_count": 19,
   "metadata": {},
   "outputs": [],
   "source": [
    "import pandas as pd\n",
    "df=pd.read_csv(\"C:/Users/Dell/Documents/P2_mov.csv\")"
   ]
  },
  {
   "cell_type": "code",
   "execution_count": 20,
   "metadata": {},
   "outputs": [
    {
     "data": {
      "text/html": [
       "<div>\n",
       "<style>\n",
       "    .dataframe thead tr:only-child th {\n",
       "        text-align: right;\n",
       "    }\n",
       "\n",
       "    .dataframe thead th {\n",
       "        text-align: left;\n",
       "    }\n",
       "\n",
       "    .dataframe tbody tr th {\n",
       "        vertical-align: top;\n",
       "    }\n",
       "</style>\n",
       "<table border=\"1\" class=\"dataframe\">\n",
       "  <thead>\n",
       "    <tr style=\"text-align: right;\">\n",
       "      <th></th>\n",
       "      <th>budget</th>\n",
       "      <th>id</th>\n",
       "      <th>popularity</th>\n",
       "      <th>revenue</th>\n",
       "      <th>runtime</th>\n",
       "      <th>vote_average</th>\n",
       "      <th>vote_count</th>\n",
       "    </tr>\n",
       "  </thead>\n",
       "  <tbody>\n",
       "    <tr>\n",
       "      <th>count</th>\n",
       "      <td>4.803000e+03</td>\n",
       "      <td>4803.000000</td>\n",
       "      <td>4803.000000</td>\n",
       "      <td>4.803000e+03</td>\n",
       "      <td>4801.000000</td>\n",
       "      <td>4803.000000</td>\n",
       "      <td>4803.000000</td>\n",
       "    </tr>\n",
       "    <tr>\n",
       "      <th>mean</th>\n",
       "      <td>2.904504e+07</td>\n",
       "      <td>57165.484281</td>\n",
       "      <td>21.492301</td>\n",
       "      <td>8.226064e+07</td>\n",
       "      <td>106.875859</td>\n",
       "      <td>6.092172</td>\n",
       "      <td>690.217989</td>\n",
       "    </tr>\n",
       "    <tr>\n",
       "      <th>std</th>\n",
       "      <td>4.072239e+07</td>\n",
       "      <td>88694.614033</td>\n",
       "      <td>31.816650</td>\n",
       "      <td>1.628571e+08</td>\n",
       "      <td>22.611935</td>\n",
       "      <td>1.194612</td>\n",
       "      <td>1234.585891</td>\n",
       "    </tr>\n",
       "    <tr>\n",
       "      <th>min</th>\n",
       "      <td>0.000000e+00</td>\n",
       "      <td>5.000000</td>\n",
       "      <td>0.000000</td>\n",
       "      <td>0.000000e+00</td>\n",
       "      <td>0.000000</td>\n",
       "      <td>0.000000</td>\n",
       "      <td>0.000000</td>\n",
       "    </tr>\n",
       "    <tr>\n",
       "      <th>25%</th>\n",
       "      <td>7.900000e+05</td>\n",
       "      <td>9014.500000</td>\n",
       "      <td>4.668070</td>\n",
       "      <td>0.000000e+00</td>\n",
       "      <td>94.000000</td>\n",
       "      <td>5.600000</td>\n",
       "      <td>54.000000</td>\n",
       "    </tr>\n",
       "  </tbody>\n",
       "</table>\n",
       "</div>"
      ],
      "text/plain": [
       "             budget            id   popularity       revenue      runtime  \\\n",
       "count  4.803000e+03   4803.000000  4803.000000  4.803000e+03  4801.000000   \n",
       "mean   2.904504e+07  57165.484281    21.492301  8.226064e+07   106.875859   \n",
       "std    4.072239e+07  88694.614033    31.816650  1.628571e+08    22.611935   \n",
       "min    0.000000e+00      5.000000     0.000000  0.000000e+00     0.000000   \n",
       "25%    7.900000e+05   9014.500000     4.668070  0.000000e+00    94.000000   \n",
       "\n",
       "       vote_average   vote_count  \n",
       "count   4803.000000  4803.000000  \n",
       "mean       6.092172   690.217989  \n",
       "std        1.194612  1234.585891  \n",
       "min        0.000000     0.000000  \n",
       "25%        5.600000    54.000000  "
      ]
     },
     "execution_count": 20,
     "metadata": {},
     "output_type": "execute_result"
    }
   ],
   "source": [
    "df.describe().head(5)\n"
   ]
  },
  {
   "cell_type": "code",
   "execution_count": 21,
   "metadata": {
    "collapsed": true
   },
   "outputs": [],
   "source": [
    "import seaborn as sns\n",
    "import matplotlib.pyplot as mat"
   ]
  },
  {
   "cell_type": "code",
   "execution_count": 22,
   "metadata": {},
   "outputs": [
    {
     "name": "stdout",
     "output_type": "stream",
     "text": [
      "<class 'pandas.core.frame.DataFrame'>\n",
      "RangeIndex: 4803 entries, 0 to 4802\n",
      "Data columns (total 20 columns):\n",
      "budget                  4803 non-null int64\n",
      "genres                  4803 non-null object\n",
      "homepage                1712 non-null object\n",
      "id                      4803 non-null int64\n",
      "keywords                4803 non-null object\n",
      "original_language       4803 non-null object\n",
      "original_title          4803 non-null object\n",
      "overview                4800 non-null object\n",
      "popularity              4803 non-null float64\n",
      "production_companies    4803 non-null object\n",
      "production_countries    4803 non-null object\n",
      "release_date            4802 non-null object\n",
      "revenue                 4803 non-null int64\n",
      "runtime                 4801 non-null float64\n",
      "spoken_languages        4803 non-null object\n",
      "status                  4803 non-null object\n",
      "tagline                 3959 non-null object\n",
      "title                   4803 non-null object\n",
      "vote_average            4803 non-null float64\n",
      "vote_count              4803 non-null int64\n",
      "dtypes: float64(3), int64(4), object(13)\n",
      "memory usage: 750.5+ KB\n"
     ]
    }
   ],
   "source": [
    "df.info()"
   ]
  },
  {
   "cell_type": "code",
   "execution_count": 23,
   "metadata": {},
   "outputs": [],
   "source": [
    "from statistics import mean"
   ]
  },
  {
   "cell_type": "code",
   "execution_count": 24,
   "metadata": {},
   "outputs": [
    {
     "data": {
      "text/plain": [
       "29045039"
      ]
     },
     "execution_count": 24,
     "metadata": {},
     "output_type": "execute_result"
    }
   ],
   "source": [
    "mean_budget=mean(df['budget'])\n",
    "mean_budget"
   ]
  },
  {
   "cell_type": "code",
   "execution_count": 25,
   "metadata": {},
   "outputs": [],
   "source": [
    "df['budget']=df['budget'].replace(to_replace=0,value=int(mean_budget))\n"
   ]
  },
  {
   "cell_type": "code",
   "execution_count": 26,
   "metadata": {},
   "outputs": [
    {
     "data": {
      "text/plain": [
       "0                             http://www.avatarmovie.com/\n",
       "1            http://disney.go.com/disneypictures/pirates/\n",
       "2             http://www.sonypictures.com/movies/spectre/\n",
       "3                      http://www.thedarkknightrises.com/\n",
       "4                    http://movies.disney.com/john-carter\n",
       "5         http://www.sonypictures.com/movies/spider-man3/\n",
       "6            http://disney.go.com/disneypictures/tangled/\n",
       "7       http://marvel.com/movies/movie/193/avengers_ag...\n",
       "8       http://harrypotter.warnerbros.com/harrypottera...\n",
       "9            http://www.batmanvsupermandawnofjustice.com/\n",
       "10                                http://www.superman.com\n",
       "11      http://www.mgm.com/view/movie/234/Quantum-of-S...\n",
       "12           http://disney.go.com/disneypictures/pirates/\n",
       "13                  http://disney.go.com/the-lone-ranger/\n",
       "14                             http://www.manofsteel.com/\n",
       "15                                                    NaN\n",
       "16                      http://marvel.com/avengers_movie/\n",
       "17      http://disney.go.com/pirates/index-on-stranger...\n",
       "18        http://www.sonypictures.com/movies/meninblack3/\n",
       "19                              http://www.thehobbit.com/\n",
       "20                     http://www.theamazingspiderman.com\n",
       "21                      http://www.robinhoodthemovie.com/\n",
       "22                              http://www.thehobbit.com/\n",
       "23      http://www.goldencompassmovie.com/index_german...\n",
       "24                                                    NaN\n",
       "25                            http://www.titanicmovie.com\n",
       "26               http://marvel.com/captainamericapremiere\n",
       "27                                                    NaN\n",
       "28                          http://www.jurassicworld.com/\n",
       "29                           http://www.skyfall-movie.com\n",
       "                              ...                        \n",
       "4773                 http://www.miramax.com/movie/clerks/\n",
       "4774                                                  NaN\n",
       "4775                                                  NaN\n",
       "4776                                                  NaN\n",
       "4777                                                  NaN\n",
       "4778                                                  NaN\n",
       "4779                                                  NaN\n",
       "4780                                                  NaN\n",
       "4781               https://www.facebook.com/DrySpellMovie\n",
       "4782                                                  NaN\n",
       "4783                                                  NaN\n",
       "4784                    http://www.thepuffychairmovie.com\n",
       "4785                                                  NaN\n",
       "4786                                                  NaN\n",
       "4787                                                  NaN\n",
       "4788                                                  NaN\n",
       "4789                                                  NaN\n",
       "4790                                                  NaN\n",
       "4791                        http://tincanmanthemovie.com/\n",
       "4792                                                  NaN\n",
       "4793                                                  NaN\n",
       "4794                                                  NaN\n",
       "4795                                                  NaN\n",
       "4796                           http://www.primermovie.com\n",
       "4797                                                  NaN\n",
       "4798                                                  NaN\n",
       "4799                                                  NaN\n",
       "4800    http://www.hallmarkchannel.com/signedsealeddel...\n",
       "4801                          http://shanghaicalling.com/\n",
       "4802                                                  NaN\n",
       "Name: homepage, Length: 4803, dtype: object"
      ]
     },
     "execution_count": 26,
     "metadata": {},
     "output_type": "execute_result"
    }
   ],
   "source": [
    "df['homepage'].fillna('NaN')"
   ]
  },
  {
   "cell_type": "code",
   "execution_count": 27,
   "metadata": {},
   "outputs": [
    {
     "data": {
      "text/plain": [
       "0                             http://www.avatarmovie.com/\n",
       "1            http://disney.go.com/disneypictures/pirates/\n",
       "2             http://www.sonypictures.com/movies/spectre/\n",
       "3                      http://www.thedarkknightrises.com/\n",
       "4                    http://movies.disney.com/john-carter\n",
       "5         http://www.sonypictures.com/movies/spider-man3/\n",
       "6            http://disney.go.com/disneypictures/tangled/\n",
       "7       http://marvel.com/movies/movie/193/avengers_ag...\n",
       "8       http://harrypotter.warnerbros.com/harrypottera...\n",
       "9            http://www.batmanvsupermandawnofjustice.com/\n",
       "10                                http://www.superman.com\n",
       "11      http://www.mgm.com/view/movie/234/Quantum-of-S...\n",
       "12           http://disney.go.com/disneypictures/pirates/\n",
       "13                  http://disney.go.com/the-lone-ranger/\n",
       "14                             http://www.manofsteel.com/\n",
       "15                                                 rakshu\n",
       "16                      http://marvel.com/avengers_movie/\n",
       "17      http://disney.go.com/pirates/index-on-stranger...\n",
       "18        http://www.sonypictures.com/movies/meninblack3/\n",
       "19                              http://www.thehobbit.com/\n",
       "20                     http://www.theamazingspiderman.com\n",
       "21                      http://www.robinhoodthemovie.com/\n",
       "22                              http://www.thehobbit.com/\n",
       "23      http://www.goldencompassmovie.com/index_german...\n",
       "24                                                 rakshu\n",
       "25                            http://www.titanicmovie.com\n",
       "26               http://marvel.com/captainamericapremiere\n",
       "27                                                 rakshu\n",
       "28                          http://www.jurassicworld.com/\n",
       "29                           http://www.skyfall-movie.com\n",
       "                              ...                        \n",
       "4773                 http://www.miramax.com/movie/clerks/\n",
       "4774                                               rakshu\n",
       "4775                                               rakshu\n",
       "4776                                               rakshu\n",
       "4777                                               rakshu\n",
       "4778                                               rakshu\n",
       "4779                                               rakshu\n",
       "4780                                               rakshu\n",
       "4781               https://www.facebook.com/DrySpellMovie\n",
       "4782                                               rakshu\n",
       "4783                                               rakshu\n",
       "4784                    http://www.thepuffychairmovie.com\n",
       "4785                                               rakshu\n",
       "4786                                               rakshu\n",
       "4787                                               rakshu\n",
       "4788                                               rakshu\n",
       "4789                                               rakshu\n",
       "4790                                               rakshu\n",
       "4791                        http://tincanmanthemovie.com/\n",
       "4792                                               rakshu\n",
       "4793                                               rakshu\n",
       "4794                                               rakshu\n",
       "4795                                               rakshu\n",
       "4796                           http://www.primermovie.com\n",
       "4797                                               rakshu\n",
       "4798                                               rakshu\n",
       "4799                                               rakshu\n",
       "4800    http://www.hallmarkchannel.com/signedsealeddel...\n",
       "4801                          http://shanghaicalling.com/\n",
       "4802                                               rakshu\n",
       "Name: homepage, Length: 4803, dtype: object"
      ]
     },
     "execution_count": 27,
     "metadata": {},
     "output_type": "execute_result"
    }
   ],
   "source": [
    "df['homepage'].fillna('rakshu')"
   ]
  },
  {
   "cell_type": "code",
   "execution_count": 28,
   "metadata": {
    "collapsed": true
   },
   "outputs": [],
   "source": [
    "import numpy as np\n"
   ]
  },
  {
   "cell_type": "code",
   "execution_count": 30,
   "metadata": {},
   "outputs": [
    {
     "data": {
      "text/plain": [
       "0        HIT\n",
       "1        HIT\n",
       "2        HIT\n",
       "3        HIT\n",
       "4        HIT\n",
       "5       FLOP\n",
       "6        HIT\n",
       "7        HIT\n",
       "8        HIT\n",
       "9       FLOP\n",
       "10      FLOP\n",
       "11       HIT\n",
       "12       HIT\n",
       "13      FLOP\n",
       "14       HIT\n",
       "15       HIT\n",
       "16       HIT\n",
       "17       HIT\n",
       "18       HIT\n",
       "19       HIT\n",
       "20       HIT\n",
       "21       HIT\n",
       "22       HIT\n",
       "23      FLOP\n",
       "24       HIT\n",
       "25       HIT\n",
       "26       HIT\n",
       "27      FLOP\n",
       "28       HIT\n",
       "29       HIT\n",
       "        ... \n",
       "4773     HIT\n",
       "4774     HIT\n",
       "4775     HIT\n",
       "4776     HIT\n",
       "4777    FLOP\n",
       "4778     HIT\n",
       "4779     HIT\n",
       "4780    FLOP\n",
       "4781     HIT\n",
       "4782     HIT\n",
       "4783    FLOP\n",
       "4784     HIT\n",
       "4785    FLOP\n",
       "4786    FLOP\n",
       "4787    FLOP\n",
       "4788     HIT\n",
       "4789     HIT\n",
       "4790     HIT\n",
       "4791    FLOP\n",
       "4792     HIT\n",
       "4793     HIT\n",
       "4794    FLOP\n",
       "4795     HIT\n",
       "4796     HIT\n",
       "4797     HIT\n",
       "4798     HIT\n",
       "4799    FLOP\n",
       "4800     HIT\n",
       "4801    FLOP\n",
       "4802     HIT\n",
       "Name: hit, Length: 4803, dtype: object"
      ]
     },
     "execution_count": 30,
     "metadata": {},
     "output_type": "execute_result"
    }
   ],
   "source": [
    "df['hit']=np.where(df['vote_average']>=6,'HIT','FLOP')\n",
    "df['hit']"
   ]
  },
  {
   "cell_type": "code",
   "execution_count": 34,
   "metadata": {},
   "outputs": [
    {
     "data": {
      "text/html": [
       "<div>\n",
       "<style>\n",
       "    .dataframe thead tr:only-child th {\n",
       "        text-align: right;\n",
       "    }\n",
       "\n",
       "    .dataframe thead th {\n",
       "        text-align: left;\n",
       "    }\n",
       "\n",
       "    .dataframe tbody tr th {\n",
       "        vertical-align: top;\n",
       "    }\n",
       "</style>\n",
       "<table border=\"1\" class=\"dataframe\">\n",
       "  <thead>\n",
       "    <tr style=\"text-align: right;\">\n",
       "      <th></th>\n",
       "      <th>budget</th>\n",
       "      <th>genres</th>\n",
       "      <th>homepage</th>\n",
       "      <th>id</th>\n",
       "      <th>keywords</th>\n",
       "      <th>original_language</th>\n",
       "      <th>original_title</th>\n",
       "      <th>overview</th>\n",
       "      <th>popularity</th>\n",
       "      <th>production_companies</th>\n",
       "      <th>...</th>\n",
       "      <th>release_date</th>\n",
       "      <th>revenue</th>\n",
       "      <th>runtime</th>\n",
       "      <th>spoken_languages</th>\n",
       "      <th>status</th>\n",
       "      <th>tagline</th>\n",
       "      <th>title</th>\n",
       "      <th>vote_average</th>\n",
       "      <th>vote_count</th>\n",
       "      <th>hit</th>\n",
       "    </tr>\n",
       "  </thead>\n",
       "  <tbody>\n",
       "  </tbody>\n",
       "</table>\n",
       "<p>0 rows × 21 columns</p>\n",
       "</div>"
      ],
      "text/plain": [
       "Empty DataFrame\n",
       "Columns: [budget, genres, homepage, id, keywords, original_language, original_title, overview, popularity, production_companies, production_countries, release_date, revenue, runtime, spoken_languages, status, tagline, title, vote_average, vote_count, hit]\n",
       "Index: []\n",
       "\n",
       "[0 rows x 21 columns]"
      ]
     },
     "execution_count": 34,
     "metadata": {},
     "output_type": "execute_result"
    }
   ],
   "source": [
    "df[df.apply(pd.to_numeric,errors='coerce').notnull()].dropna()"
   ]
  }
 ],
 "metadata": {
  "kernelspec": {
   "display_name": "Python 3",
   "language": "python",
   "name": "python3"
  },
  "language_info": {
   "codemirror_mode": {
    "name": "ipython",
    "version": 3
   },
   "file_extension": ".py",
   "mimetype": "text/x-python",
   "name": "python",
   "nbconvert_exporter": "python",
   "pygments_lexer": "ipython3",
   "version": "3.7.3"
  }
 },
 "nbformat": 4,
 "nbformat_minor": 2
}
